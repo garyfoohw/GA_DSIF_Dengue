{
 "cells": [
  {
   "cell_type": "code",
   "execution_count": 1,
   "id": "a335c46b",
   "metadata": {},
   "outputs": [
    {
     "name": "stdout",
     "output_type": "stream",
     "text": [
      "Requirement already satisfied: json5 in c:\\users\\annitan\\anaconda3\\lib\\site-packages (0.9.5)\n",
      "Requirement already satisfied: tqdm in c:\\users\\annitan\\anaconda3\\lib\\site-packages (4.59.0)\n",
      "Collecting pytrends\n",
      "  Downloading pytrends-4.8.0.tar.gz (19 kB)\n",
      "Requirement already satisfied: requests>=2.0 in c:\\users\\annitan\\anaconda3\\lib\\site-packages (from pytrends) (2.25.1)\n",
      "Requirement already satisfied: pandas>=0.25 in c:\\users\\annitan\\anaconda3\\lib\\site-packages (from pytrends) (1.2.4)\n",
      "Requirement already satisfied: lxml in c:\\users\\annitan\\anaconda3\\lib\\site-packages (from pytrends) (4.6.3)\n",
      "Requirement already satisfied: python-dateutil>=2.7.3 in c:\\users\\annitan\\anaconda3\\lib\\site-packages (from pandas>=0.25->pytrends) (2.8.1)\n",
      "Requirement already satisfied: pytz>=2017.3 in c:\\users\\annitan\\anaconda3\\lib\\site-packages (from pandas>=0.25->pytrends) (2021.1)\n",
      "Requirement already satisfied: numpy>=1.16.5 in c:\\users\\annitan\\anaconda3\\lib\\site-packages (from pandas>=0.25->pytrends) (1.20.1)\n",
      "Requirement already satisfied: six>=1.5 in c:\\users\\annitan\\anaconda3\\lib\\site-packages (from python-dateutil>=2.7.3->pandas>=0.25->pytrends) (1.15.0)\n",
      "Requirement already satisfied: chardet<5,>=3.0.2 in c:\\users\\annitan\\anaconda3\\lib\\site-packages (from requests>=2.0->pytrends) (4.0.0)\n",
      "Requirement already satisfied: certifi>=2017.4.17 in c:\\users\\annitan\\anaconda3\\lib\\site-packages (from requests>=2.0->pytrends) (2022.9.24)\n",
      "Requirement already satisfied: urllib3<1.27,>=1.21.1 in c:\\users\\annitan\\anaconda3\\lib\\site-packages (from requests>=2.0->pytrends) (1.26.4)\n",
      "Requirement already satisfied: idna<3,>=2.5 in c:\\users\\annitan\\anaconda3\\lib\\site-packages (from requests>=2.0->pytrends) (2.10)\n",
      "Building wheels for collected packages: pytrends\n",
      "  Building wheel for pytrends (setup.py): started\n",
      "  Building wheel for pytrends (setup.py): finished with status 'done'\n",
      "  Created wheel for pytrends: filename=pytrends-4.8.0-py3-none-any.whl size=16105 sha256=1933360d46280a80698da71ffc0cbf086d260e73776ecf849faec8767be21f33\n",
      "  Stored in directory: c:\\users\\annitan\\appdata\\local\\pip\\cache\\wheels\\e8\\78\\c8\\18d4f4804753e14416809b365773220c48b41fe5387f2bb6b9\n",
      "Successfully built pytrends\n",
      "Installing collected packages: pytrends\n",
      "Successfully installed pytrends-4.8.0\n"
     ]
    }
   ],
   "source": [
    "!pip install json5 tqdm pytrends"
   ]
  },
  {
   "cell_type": "code",
   "execution_count": null,
   "id": "f7bee19a",
   "metadata": {},
   "outputs": [],
   "source": []
  }
 ],
 "metadata": {
  "kernelspec": {
   "display_name": "Python 3",
   "language": "python",
   "name": "python3"
  },
  "language_info": {
   "codemirror_mode": {
    "name": "ipython",
    "version": 3
   },
   "file_extension": ".py",
   "mimetype": "text/x-python",
   "name": "python",
   "nbconvert_exporter": "python",
   "pygments_lexer": "ipython3",
   "version": "3.8.8"
  }
 },
 "nbformat": 4,
 "nbformat_minor": 5
}
