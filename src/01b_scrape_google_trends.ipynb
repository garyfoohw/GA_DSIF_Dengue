{
 "cells": [
  {
   "cell_type": "markdown",
   "id": "8449f5b4",
   "metadata": {},
   "source": [
    "This script uses library `pytrends` to scrape google trends by keywords"
   ]
  },
  {
   "cell_type": "code",
   "execution_count": 1,
   "id": "b80694eb",
   "metadata": {},
   "outputs": [],
   "source": [
    "from pytrends.request import TrendReq\n",
    "from datetime import datetime\n",
    "from dateutil.relativedelta import relativedelta\n",
    "import pandas as pd\n",
    "import math\n",
    "from tqdm.auto import tqdm"
   ]
  },
  {
   "cell_type": "code",
   "execution_count": 2,
   "id": "256b4a9a",
   "metadata": {},
   "outputs": [],
   "source": [
    "#keywords\n",
    "kw_list=[\"dengue\"]\n",
    "\n",
    "#specify start and end date YYYY-MM-DD\n",
    "date_start='2009-01-01'\n",
    "date_end='2022-12-01'\n",
    "\n",
    "#restrict geography to SG\n",
    "geo='SG'\n",
    "\n",
    "#timezone in minutes from UTC\n",
    "tz=-480\n",
    "\n",
    "#language\n",
    "hl=\"en-US\"\n",
    "\n",
    "#A backoff factor to apply between attempts after the second try\n",
    "# (most errors are resolved immediately by a second try without a delay).\n",
    "# urllib3 will sleep for: {backoff factor} * (2 ^ ({number of total retries} - 1)) seconds.\n",
    "# If the backoff_factor is 0.1, then sleep() will sleep for [0.0s, 0.2s, 0.4s, …] between retries.\n",
    "# It will never be longer than Retry.BACKOFF_MAX. By default, backoff is disabled (set to 0).\n",
    "backoff_factor=0.5"
   ]
  },
  {
   "cell_type": "code",
   "execution_count": 3,
   "id": "909f469b",
   "metadata": {},
   "outputs": [],
   "source": [
    "pt=TrendReq(hl=hl,tz=tz,backoff_factor=backoff_factor)"
   ]
  },
  {
   "cell_type": "code",
   "execution_count": 4,
   "id": "5add52d9",
   "metadata": {},
   "outputs": [],
   "source": [
    "def call_query(pt,date_start,date_end,progress):\n",
    "    \"\"\"\n",
    "    a recurring function that breaks up the query into chunks of 6 months or less\n",
    "    pt: pytrends object\n",
    "    date_start: start_date in YYYY-MM-DD\n",
    "    date_end: end_date in YYYY-MM-DD\n",
    "    return: dataframe object of the entire date range\n",
    "    \"\"\"\n",
    "    progress.update(1)\n",
    "    \n",
    "    start=datetime.strptime(date_start,\"%Y-%m-%d\")\n",
    "    end=datetime.strptime(date_end,\"%Y-%m-%d\")\n",
    "    r = relativedelta(end, start)\n",
    "    mth = (r.years * 12) + r.months\n",
    "    \n",
    "    q_start=start\n",
    "    q_end=start+relativedelta(months=+6)\n",
    "    timeframe=q_start.strftime(\"%Y-%m-%d\")+\" \"+(q_end+relativedelta(days=-1)).strftime(\"%Y-%m-%d\")\n",
    "    \n",
    "    pt.build_payload(kw_list,timeframe=timeframe,geo=geo)\n",
    "    df=pt.interest_over_time()\n",
    "    \n",
    "    if mth>6:\n",
    "        df2=call_query(pt,(q_end).strftime(\"%Y-%m-%d\"),date_end,progress)\n",
    "        df=pd.concat([df,df2])\n",
    "    \n",
    "    return df    "
   ]
  },
  {
   "cell_type": "markdown",
   "id": "00d47049",
   "metadata": {},
   "source": [
    "First find number of recurrsion, for the purpose of showing a progress bar."
   ]
  },
  {
   "cell_type": "code",
   "execution_count": 5,
   "id": "cab3e97c",
   "metadata": {},
   "outputs": [
    {
     "data": {
      "application/vnd.jupyter.widget-view+json": {
       "model_id": "922f17afb96f421781a76bc28c149bce",
       "version_major": 2,
       "version_minor": 0
      },
      "text/plain": [
       "  0%|          | 0/28 [00:00<?, ?it/s]"
      ]
     },
     "metadata": {},
     "output_type": "display_data"
    }
   ],
   "source": [
    "start=datetime.strptime(date_start,\"%Y-%m-%d\")\n",
    "end=datetime.strptime(date_end,\"%Y-%m-%d\")\n",
    "r = relativedelta(end, start)\n",
    "mth = (r.years * 12) + r.months\n",
    "rounds=math.ceil(mth/6)\n",
    "\n",
    "bar=tqdm(total=rounds)\n",
    "df=call_query(pt,date_start,date_end,progress=bar)\n",
    "df.drop(columns=\"isPartial\",inplace=True)"
   ]
  },
  {
   "cell_type": "markdown",
   "id": "e5f857e2",
   "metadata": {},
   "source": [
    "Check for missing dates in the dataframe.\n",
    "If there's any missing dates, it will show up below."
   ]
  },
  {
   "cell_type": "code",
   "execution_count": 6,
   "id": "a4dcda55",
   "metadata": {
    "scrolled": false
   },
   "outputs": [
    {
     "name": "stdout",
     "output_type": "stream",
     "text": [
      "[Timestamp('2011-01-01 00:00:00'), Timestamp('2011-01-02 00:00:00'), Timestamp('2011-01-03 00:00:00'), Timestamp('2011-01-04 00:00:00'), Timestamp('2011-01-05 00:00:00'), Timestamp('2011-01-06 00:00:00'), Timestamp('2011-01-07 00:00:00'), Timestamp('2011-01-08 00:00:00'), Timestamp('2011-01-09 00:00:00'), Timestamp('2011-01-10 00:00:00'), Timestamp('2011-01-11 00:00:00'), Timestamp('2011-01-12 00:00:00'), Timestamp('2011-01-13 00:00:00'), Timestamp('2011-01-14 00:00:00'), Timestamp('2011-01-15 00:00:00'), Timestamp('2011-01-16 00:00:00'), Timestamp('2011-01-17 00:00:00'), Timestamp('2011-01-18 00:00:00'), Timestamp('2011-01-19 00:00:00'), Timestamp('2011-01-20 00:00:00'), Timestamp('2011-01-21 00:00:00'), Timestamp('2011-01-22 00:00:00'), Timestamp('2011-01-23 00:00:00'), Timestamp('2011-01-24 00:00:00'), Timestamp('2011-01-25 00:00:00'), Timestamp('2011-01-26 00:00:00'), Timestamp('2011-01-27 00:00:00'), Timestamp('2011-01-28 00:00:00'), Timestamp('2011-01-29 00:00:00'), Timestamp('2011-01-30 00:00:00'), Timestamp('2011-01-31 00:00:00'), Timestamp('2011-02-01 00:00:00'), Timestamp('2011-02-02 00:00:00'), Timestamp('2011-02-03 00:00:00'), Timestamp('2011-02-04 00:00:00'), Timestamp('2011-02-05 00:00:00'), Timestamp('2011-02-06 00:00:00'), Timestamp('2011-02-07 00:00:00'), Timestamp('2011-02-08 00:00:00'), Timestamp('2011-02-09 00:00:00'), Timestamp('2011-02-10 00:00:00'), Timestamp('2011-02-11 00:00:00'), Timestamp('2011-02-12 00:00:00'), Timestamp('2011-02-13 00:00:00'), Timestamp('2011-02-14 00:00:00'), Timestamp('2011-02-15 00:00:00'), Timestamp('2011-02-16 00:00:00'), Timestamp('2011-02-17 00:00:00'), Timestamp('2011-02-18 00:00:00'), Timestamp('2011-02-19 00:00:00'), Timestamp('2011-02-20 00:00:00'), Timestamp('2011-02-21 00:00:00'), Timestamp('2011-02-22 00:00:00'), Timestamp('2011-02-23 00:00:00'), Timestamp('2011-02-24 00:00:00'), Timestamp('2011-02-25 00:00:00'), Timestamp('2011-02-26 00:00:00'), Timestamp('2011-02-27 00:00:00'), Timestamp('2011-02-28 00:00:00'), Timestamp('2011-03-01 00:00:00'), Timestamp('2011-03-02 00:00:00'), Timestamp('2011-03-03 00:00:00'), Timestamp('2011-03-04 00:00:00'), Timestamp('2011-03-05 00:00:00'), Timestamp('2011-03-06 00:00:00'), Timestamp('2011-03-07 00:00:00'), Timestamp('2011-03-08 00:00:00'), Timestamp('2011-03-09 00:00:00'), Timestamp('2011-03-10 00:00:00'), Timestamp('2011-03-11 00:00:00'), Timestamp('2011-03-12 00:00:00'), Timestamp('2011-03-13 00:00:00'), Timestamp('2011-03-14 00:00:00'), Timestamp('2011-03-15 00:00:00'), Timestamp('2011-03-16 00:00:00'), Timestamp('2011-03-17 00:00:00'), Timestamp('2011-03-18 00:00:00'), Timestamp('2011-03-19 00:00:00'), Timestamp('2011-03-20 00:00:00'), Timestamp('2011-03-21 00:00:00'), Timestamp('2011-03-22 00:00:00'), Timestamp('2011-03-23 00:00:00'), Timestamp('2011-03-24 00:00:00'), Timestamp('2011-03-25 00:00:00'), Timestamp('2011-03-26 00:00:00'), Timestamp('2011-03-27 00:00:00'), Timestamp('2011-03-28 00:00:00'), Timestamp('2011-03-29 00:00:00'), Timestamp('2011-03-30 00:00:00'), Timestamp('2011-03-31 00:00:00'), Timestamp('2011-04-01 00:00:00'), Timestamp('2011-04-02 00:00:00'), Timestamp('2011-04-03 00:00:00'), Timestamp('2011-04-04 00:00:00'), Timestamp('2011-04-05 00:00:00'), Timestamp('2011-04-06 00:00:00'), Timestamp('2011-04-07 00:00:00'), Timestamp('2011-04-08 00:00:00'), Timestamp('2011-04-09 00:00:00'), Timestamp('2011-04-10 00:00:00'), Timestamp('2011-04-11 00:00:00'), Timestamp('2011-04-12 00:00:00'), Timestamp('2011-04-13 00:00:00'), Timestamp('2011-04-14 00:00:00'), Timestamp('2011-04-15 00:00:00'), Timestamp('2011-04-16 00:00:00'), Timestamp('2011-04-17 00:00:00'), Timestamp('2011-04-18 00:00:00'), Timestamp('2011-04-19 00:00:00'), Timestamp('2011-04-20 00:00:00'), Timestamp('2011-04-21 00:00:00'), Timestamp('2011-04-22 00:00:00'), Timestamp('2011-04-23 00:00:00'), Timestamp('2011-04-24 00:00:00'), Timestamp('2011-04-25 00:00:00'), Timestamp('2011-04-26 00:00:00'), Timestamp('2011-04-27 00:00:00'), Timestamp('2011-04-28 00:00:00'), Timestamp('2011-04-29 00:00:00'), Timestamp('2011-04-30 00:00:00'), Timestamp('2011-05-01 00:00:00'), Timestamp('2011-05-02 00:00:00'), Timestamp('2011-05-03 00:00:00'), Timestamp('2011-05-04 00:00:00'), Timestamp('2011-05-05 00:00:00'), Timestamp('2011-05-06 00:00:00'), Timestamp('2011-05-07 00:00:00'), Timestamp('2011-05-08 00:00:00'), Timestamp('2011-05-09 00:00:00'), Timestamp('2011-05-10 00:00:00'), Timestamp('2011-05-11 00:00:00'), Timestamp('2011-05-12 00:00:00'), Timestamp('2011-05-13 00:00:00'), Timestamp('2011-05-14 00:00:00'), Timestamp('2011-05-15 00:00:00'), Timestamp('2011-05-16 00:00:00'), Timestamp('2011-05-17 00:00:00'), Timestamp('2011-05-18 00:00:00'), Timestamp('2011-05-19 00:00:00'), Timestamp('2011-05-20 00:00:00'), Timestamp('2011-05-21 00:00:00'), Timestamp('2011-05-22 00:00:00'), Timestamp('2011-05-23 00:00:00'), Timestamp('2011-05-24 00:00:00'), Timestamp('2011-05-25 00:00:00'), Timestamp('2011-05-26 00:00:00'), Timestamp('2011-05-27 00:00:00'), Timestamp('2011-05-28 00:00:00'), Timestamp('2011-05-29 00:00:00'), Timestamp('2011-05-30 00:00:00'), Timestamp('2011-05-31 00:00:00'), Timestamp('2011-06-01 00:00:00'), Timestamp('2011-06-02 00:00:00'), Timestamp('2011-06-03 00:00:00'), Timestamp('2011-06-04 00:00:00'), Timestamp('2011-06-05 00:00:00'), Timestamp('2011-06-06 00:00:00'), Timestamp('2011-06-07 00:00:00'), Timestamp('2011-06-08 00:00:00'), Timestamp('2011-06-09 00:00:00'), Timestamp('2011-06-10 00:00:00'), Timestamp('2011-06-11 00:00:00'), Timestamp('2011-06-12 00:00:00'), Timestamp('2011-06-13 00:00:00'), Timestamp('2011-06-14 00:00:00'), Timestamp('2011-06-15 00:00:00'), Timestamp('2011-06-16 00:00:00'), Timestamp('2011-06-17 00:00:00'), Timestamp('2011-06-18 00:00:00'), Timestamp('2011-06-19 00:00:00'), Timestamp('2011-06-20 00:00:00'), Timestamp('2011-06-21 00:00:00'), Timestamp('2011-06-22 00:00:00'), Timestamp('2011-06-23 00:00:00'), Timestamp('2011-06-24 00:00:00'), Timestamp('2011-06-25 00:00:00'), Timestamp('2011-06-26 00:00:00'), Timestamp('2011-06-27 00:00:00'), Timestamp('2011-06-28 00:00:00'), Timestamp('2011-06-29 00:00:00'), Timestamp('2011-06-30 00:00:00'), Timestamp('2022-11-28 00:00:00'), Timestamp('2022-11-29 00:00:00'), Timestamp('2022-11-30 00:00:00'), Timestamp('2022-12-01 00:00:00')]\n"
     ]
    }
   ],
   "source": [
    "print(pd.date_range(\n",
    "  start=date_start, end=date_end).difference(df.index).to_list())"
   ]
  },
  {
   "cell_type": "code",
   "execution_count": 7,
   "id": "07a8cc94",
   "metadata": {},
   "outputs": [],
   "source": [
    "df.to_csv(f\"../assets/gtrends/gtrends_{kw_list[0]}.csv\")"
   ]
  }
 ],
 "metadata": {
  "kernelspec": {
   "display_name": "Python 3 (ipykernel)",
   "language": "python",
   "name": "python3"
  },
  "language_info": {
   "codemirror_mode": {
    "name": "ipython",
    "version": 3
   },
   "file_extension": ".py",
   "mimetype": "text/x-python",
   "name": "python",
   "nbconvert_exporter": "python",
   "pygments_lexer": "ipython3",
   "version": "3.9.12"
  }
 },
 "nbformat": 4,
 "nbformat_minor": 5
}
