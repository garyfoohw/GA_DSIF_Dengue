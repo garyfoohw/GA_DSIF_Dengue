{
 "cells": [
  {
   "cell_type": "code",
   "execution_count": 1,
   "id": "b7b3fc9a",
   "metadata": {},
   "outputs": [],
   "source": [
    "#Import packages\n",
    "import matplotlib.pyplot as plt\n",
    "import pandas as pd\n",
    "import seaborn as sns\n",
    "import numpy as np\n",
    "import os\n",
    "\n",
    "\n",
    "# this setting widens how many characters pandas will display in a column:\n",
    "pd.options.display.max_colwidth = 400"
   ]
  },
  {
   "cell_type": "code",
   "execution_count": 2,
   "id": "d39082b1",
   "metadata": {},
   "outputs": [],
   "source": [
    "csv_files=[\n",
    "    os.path.join(os.getcwd(),'../assets/outbreaks/merged_2015.csv'),\n",
    "    os.path.join(os.getcwd(),'../assets/outbreaks/merged_2016.csv'),\n",
    "    os.path.join(os.getcwd(),'../assets/outbreaks/merged_2017.csv'),\n",
    "    os.path.join(os.getcwd(),'../assets/outbreaks/merged_2018.csv'),\n",
    "    os.path.join(os.getcwd(),'../assets/outbreaks/merged_2019.csv'),\n",
    "    os.path.join(os.getcwd(),'../assets/outbreaks/merged_2020.csv')    \n",
    "]"
   ]
  },
  {
   "cell_type": "raw",
   "id": "f80f06cd",
   "metadata": {},
   "source": [
    "year_2015 = pd.read_csv(os.path.join(os.getcwd(),'../assets/outbreaks/merged_2015.csv'))"
   ]
  },
  {
   "cell_type": "raw",
   "id": "22d98d28",
   "metadata": {},
   "source": [
    "year_2016 = pd.read_csv(os.path.join(os.getcwd(),'../assets/outbreaks/merged_2016.csv'))"
   ]
  },
  {
   "cell_type": "raw",
   "id": "e1203044",
   "metadata": {},
   "source": [
    "year_2017 = pd.read_csv(os.path.join(os.getcwd(),'../assets/outbreaks/merged_2017.csv'))"
   ]
  },
  {
   "cell_type": "raw",
   "id": "ddc5674b",
   "metadata": {},
   "source": [
    "year_2018 = pd.read_csv(os.path.join(os.getcwd(),'../assets/outbreaks/merged_2018.csv'))"
   ]
  },
  {
   "cell_type": "raw",
   "id": "d2e1c419",
   "metadata": {},
   "source": [
    "year_2019 = pd.read_csv(os.path.join(os.getcwd(),'../assets/outbreaks/merged_2019.csv'))"
   ]
  },
  {
   "cell_type": "raw",
   "id": "664b5be6",
   "metadata": {},
   "source": [
    "year_2020 = pd.read_csv(os.path.join(os.getcwd(),'../assets/outbreaks/merged_2020.csv'))"
   ]
  },
  {
   "cell_type": "code",
   "execution_count": 3,
   "id": "f91ac90d",
   "metadata": {},
   "outputs": [
    {
     "name": "stdout",
     "output_type": "stream",
     "text": [
      "       n_of_cases                                 st_add       lat  \\\n",
      "0               4           bishan street 22 (block 232)  1.358286   \n",
      "1               7           bishan street 22 (block 233)  1.358639   \n",
      "2               3           bishan street 22 (block 234)  1.358390   \n",
      "3               1           bishan street 22 (block 235)  1.358719   \n",
      "4               4           bishan street 22 (block 236)  1.359041   \n",
      "...           ...                                    ...       ...   \n",
      "56971           1           yishun street 22 (block 265)  1.436743   \n",
      "56972           1           yishun street 81 (block 865)  1.414261   \n",
      "56973           1           yishun street 81 (block 873)  1.415016   \n",
      "56974           1  yuan ching road (lakeside apartments)  1.335930   \n",
      "56975           1   yuan ching road (park view mansions)  1.335161   \n",
      "\n",
      "             long  cluster_n  rec_cases_in_cluster  total_cases    date  \\\n",
      "0      103.845226          1                    24           83  150703   \n",
      "1      103.845259          1                    24           83  150703   \n",
      "2      103.845955          1                    24           83  150703   \n",
      "3      103.846477          1                    24           83  150703   \n",
      "4      103.846849          1                    24           83  150703   \n",
      "...           ...        ...                   ...          ...     ...   \n",
      "56971  103.838342        345                     2            2  200703   \n",
      "56972  103.838092        346                     2            2  200703   \n",
      "56973  103.836672        346                     2            2  200703   \n",
      "56974  103.725568        347                     2            2  200703   \n",
      "56975  103.725523        347                     2            2  200703   \n",
      "\n",
      "       month_num  \n",
      "0              7  \n",
      "1              7  \n",
      "2              7  \n",
      "3              7  \n",
      "4              7  \n",
      "...          ...  \n",
      "56971          7  \n",
      "56972          7  \n",
      "56973          7  \n",
      "56974          7  \n",
      "56975          7  \n",
      "\n",
      "[56976 rows x 9 columns]\n"
     ]
    }
   ],
   "source": [
    "# merged all csv to 1 dataframe\n",
    "df = pd.concat(\n",
    "    map(pd.read_csv, csv_files), ignore_index=True)\n",
    "print(df)"
   ]
  },
  {
   "cell_type": "code",
   "execution_count": 4,
   "id": "d0c4baa1",
   "metadata": {},
   "outputs": [],
   "source": [
    "df.to_csv(\"df.csv\")"
   ]
  },
  {
   "cell_type": "raw",
   "id": "60bf4ddc",
   "metadata": {},
   "source": [
    "df = pd.read_csv('df_v2.csv')"
   ]
  },
  {
   "cell_type": "code",
   "execution_count": 5,
   "id": "dced15e0",
   "metadata": {},
   "outputs": [
    {
     "data": {
      "text/plain": [
       "(56976, 9)"
      ]
     },
     "execution_count": 5,
     "metadata": {},
     "output_type": "execute_result"
    }
   ],
   "source": [
    "df.shape"
   ]
  },
  {
   "cell_type": "code",
   "execution_count": 6,
   "id": "9c2bdf1e",
   "metadata": {
    "scrolled": true
   },
   "outputs": [
    {
     "data": {
      "text/html": [
       "<div>\n",
       "<style scoped>\n",
       "    .dataframe tbody tr th:only-of-type {\n",
       "        vertical-align: middle;\n",
       "    }\n",
       "\n",
       "    .dataframe tbody tr th {\n",
       "        vertical-align: top;\n",
       "    }\n",
       "\n",
       "    .dataframe thead th {\n",
       "        text-align: right;\n",
       "    }\n",
       "</style>\n",
       "<table border=\"1\" class=\"dataframe\">\n",
       "  <thead>\n",
       "    <tr style=\"text-align: right;\">\n",
       "      <th></th>\n",
       "      <th>n_of_cases</th>\n",
       "      <th>lat</th>\n",
       "      <th>long</th>\n",
       "      <th>cluster_n</th>\n",
       "      <th>rec_cases_in_cluster</th>\n",
       "      <th>total_cases</th>\n",
       "      <th>date</th>\n",
       "      <th>month_num</th>\n",
       "    </tr>\n",
       "  </thead>\n",
       "  <tbody>\n",
       "    <tr>\n",
       "      <th>count</th>\n",
       "      <td>56976.000000</td>\n",
       "      <td>56976.000000</td>\n",
       "      <td>56976.000000</td>\n",
       "      <td>56976.000000</td>\n",
       "      <td>56976.000000</td>\n",
       "      <td>56976.000000</td>\n",
       "      <td>56976.000000</td>\n",
       "      <td>56976.000000</td>\n",
       "    </tr>\n",
       "    <tr>\n",
       "      <th>mean</th>\n",
       "      <td>2.583667</td>\n",
       "      <td>1.354812</td>\n",
       "      <td>103.856974</td>\n",
       "      <td>35.301425</td>\n",
       "      <td>6.346462</td>\n",
       "      <td>37.508688</td>\n",
       "      <td>183041.102868</td>\n",
       "      <td>6.426390</td>\n",
       "    </tr>\n",
       "    <tr>\n",
       "      <th>std</th>\n",
       "      <td>3.931250</td>\n",
       "      <td>0.038571</td>\n",
       "      <td>0.064542</td>\n",
       "      <td>47.190155</td>\n",
       "      <td>7.331141</td>\n",
       "      <td>54.091489</td>\n",
       "      <td>18159.408902</td>\n",
       "      <td>3.248549</td>\n",
       "    </tr>\n",
       "    <tr>\n",
       "      <th>min</th>\n",
       "      <td>1.000000</td>\n",
       "      <td>1.264626</td>\n",
       "      <td>103.614371</td>\n",
       "      <td>1.000000</td>\n",
       "      <td>1.000000</td>\n",
       "      <td>2.000000</td>\n",
       "      <td>150703.000000</td>\n",
       "      <td>1.000000</td>\n",
       "    </tr>\n",
       "    <tr>\n",
       "      <th>25%</th>\n",
       "      <td>1.000000</td>\n",
       "      <td>1.323170</td>\n",
       "      <td>103.829118</td>\n",
       "      <td>6.000000</td>\n",
       "      <td>2.000000</td>\n",
       "      <td>4.000000</td>\n",
       "      <td>160613.000000</td>\n",
       "      <td>4.000000</td>\n",
       "    </tr>\n",
       "    <tr>\n",
       "      <th>50%</th>\n",
       "      <td>1.000000</td>\n",
       "      <td>1.350902</td>\n",
       "      <td>103.868549</td>\n",
       "      <td>18.000000</td>\n",
       "      <td>4.000000</td>\n",
       "      <td>14.000000</td>\n",
       "      <td>190808.000000</td>\n",
       "      <td>7.000000</td>\n",
       "    </tr>\n",
       "    <tr>\n",
       "      <th>75%</th>\n",
       "      <td>3.000000</td>\n",
       "      <td>1.375948</td>\n",
       "      <td>103.903538</td>\n",
       "      <td>47.000000</td>\n",
       "      <td>8.000000</td>\n",
       "      <td>48.000000</td>\n",
       "      <td>200306.000000</td>\n",
       "      <td>9.000000</td>\n",
       "    </tr>\n",
       "    <tr>\n",
       "      <th>max</th>\n",
       "      <td>104.000000</td>\n",
       "      <td>1.466968</td>\n",
       "      <td>103.973141</td>\n",
       "      <td>393.000000</td>\n",
       "      <td>92.000000</td>\n",
       "      <td>381.000000</td>\n",
       "      <td>201106.000000</td>\n",
       "      <td>12.000000</td>\n",
       "    </tr>\n",
       "  </tbody>\n",
       "</table>\n",
       "</div>"
      ],
      "text/plain": [
       "         n_of_cases           lat          long     cluster_n  \\\n",
       "count  56976.000000  56976.000000  56976.000000  56976.000000   \n",
       "mean       2.583667      1.354812    103.856974     35.301425   \n",
       "std        3.931250      0.038571      0.064542     47.190155   \n",
       "min        1.000000      1.264626    103.614371      1.000000   \n",
       "25%        1.000000      1.323170    103.829118      6.000000   \n",
       "50%        1.000000      1.350902    103.868549     18.000000   \n",
       "75%        3.000000      1.375948    103.903538     47.000000   \n",
       "max      104.000000      1.466968    103.973141    393.000000   \n",
       "\n",
       "       rec_cases_in_cluster   total_cases           date     month_num  \n",
       "count          56976.000000  56976.000000   56976.000000  56976.000000  \n",
       "mean               6.346462     37.508688  183041.102868      6.426390  \n",
       "std                7.331141     54.091489   18159.408902      3.248549  \n",
       "min                1.000000      2.000000  150703.000000      1.000000  \n",
       "25%                2.000000      4.000000  160613.000000      4.000000  \n",
       "50%                4.000000     14.000000  190808.000000      7.000000  \n",
       "75%                8.000000     48.000000  200306.000000      9.000000  \n",
       "max               92.000000    381.000000  201106.000000     12.000000  "
      ]
     },
     "execution_count": 6,
     "metadata": {},
     "output_type": "execute_result"
    }
   ],
   "source": [
    "df.describe()"
   ]
  },
  {
   "cell_type": "code",
   "execution_count": 7,
   "id": "db21c251",
   "metadata": {},
   "outputs": [
    {
     "data": {
      "text/html": [
       "<div>\n",
       "<style scoped>\n",
       "    .dataframe tbody tr th:only-of-type {\n",
       "        vertical-align: middle;\n",
       "    }\n",
       "\n",
       "    .dataframe tbody tr th {\n",
       "        vertical-align: top;\n",
       "    }\n",
       "\n",
       "    .dataframe thead th {\n",
       "        text-align: right;\n",
       "    }\n",
       "</style>\n",
       "<table border=\"1\" class=\"dataframe\">\n",
       "  <thead>\n",
       "    <tr style=\"text-align: right;\">\n",
       "      <th></th>\n",
       "      <th>n_of_cases</th>\n",
       "      <th>st_add</th>\n",
       "      <th>lat</th>\n",
       "      <th>long</th>\n",
       "      <th>cluster_n</th>\n",
       "      <th>rec_cases_in_cluster</th>\n",
       "      <th>total_cases</th>\n",
       "      <th>date</th>\n",
       "      <th>month_num</th>\n",
       "    </tr>\n",
       "  </thead>\n",
       "  <tbody>\n",
       "    <tr>\n",
       "      <th>0</th>\n",
       "      <td>4</td>\n",
       "      <td>bishan street 22 (block 232)</td>\n",
       "      <td>1.358286</td>\n",
       "      <td>103.845226</td>\n",
       "      <td>1</td>\n",
       "      <td>24</td>\n",
       "      <td>83</td>\n",
       "      <td>150703</td>\n",
       "      <td>7</td>\n",
       "    </tr>\n",
       "    <tr>\n",
       "      <th>1</th>\n",
       "      <td>7</td>\n",
       "      <td>bishan street 22 (block 233)</td>\n",
       "      <td>1.358639</td>\n",
       "      <td>103.845259</td>\n",
       "      <td>1</td>\n",
       "      <td>24</td>\n",
       "      <td>83</td>\n",
       "      <td>150703</td>\n",
       "      <td>7</td>\n",
       "    </tr>\n",
       "    <tr>\n",
       "      <th>2</th>\n",
       "      <td>3</td>\n",
       "      <td>bishan street 22 (block 234)</td>\n",
       "      <td>1.358390</td>\n",
       "      <td>103.845955</td>\n",
       "      <td>1</td>\n",
       "      <td>24</td>\n",
       "      <td>83</td>\n",
       "      <td>150703</td>\n",
       "      <td>7</td>\n",
       "    </tr>\n",
       "    <tr>\n",
       "      <th>3</th>\n",
       "      <td>1</td>\n",
       "      <td>bishan street 22 (block 235)</td>\n",
       "      <td>1.358719</td>\n",
       "      <td>103.846477</td>\n",
       "      <td>1</td>\n",
       "      <td>24</td>\n",
       "      <td>83</td>\n",
       "      <td>150703</td>\n",
       "      <td>7</td>\n",
       "    </tr>\n",
       "    <tr>\n",
       "      <th>4</th>\n",
       "      <td>4</td>\n",
       "      <td>bishan street 22 (block 236)</td>\n",
       "      <td>1.359041</td>\n",
       "      <td>103.846849</td>\n",
       "      <td>1</td>\n",
       "      <td>24</td>\n",
       "      <td>83</td>\n",
       "      <td>150703</td>\n",
       "      <td>7</td>\n",
       "    </tr>\n",
       "  </tbody>\n",
       "</table>\n",
       "</div>"
      ],
      "text/plain": [
       "   n_of_cases                        st_add       lat        long  cluster_n  \\\n",
       "0           4  bishan street 22 (block 232)  1.358286  103.845226          1   \n",
       "1           7  bishan street 22 (block 233)  1.358639  103.845259          1   \n",
       "2           3  bishan street 22 (block 234)  1.358390  103.845955          1   \n",
       "3           1  bishan street 22 (block 235)  1.358719  103.846477          1   \n",
       "4           4  bishan street 22 (block 236)  1.359041  103.846849          1   \n",
       "\n",
       "   rec_cases_in_cluster  total_cases    date  month_num  \n",
       "0                    24           83  150703          7  \n",
       "1                    24           83  150703          7  \n",
       "2                    24           83  150703          7  \n",
       "3                    24           83  150703          7  \n",
       "4                    24           83  150703          7  "
      ]
     },
     "execution_count": 7,
     "metadata": {},
     "output_type": "execute_result"
    }
   ],
   "source": [
    "df.head()"
   ]
  },
  {
   "cell_type": "code",
   "execution_count": 8,
   "id": "76261757",
   "metadata": {},
   "outputs": [
    {
     "ename": "KeyError",
     "evalue": "'year'",
     "output_type": "error",
     "traceback": [
      "\u001b[1;31m---------------------------------------------------------------------------\u001b[0m",
      "\u001b[1;31mKeyError\u001b[0m                                  Traceback (most recent call last)",
      "Input \u001b[1;32mIn [8]\u001b[0m, in \u001b[0;36m<cell line: 1>\u001b[1;34m()\u001b[0m\n\u001b[1;32m----> 1\u001b[0m year_max_cases \u001b[38;5;241m=\u001b[39m \u001b[43mdf\u001b[49m\u001b[38;5;241;43m.\u001b[39;49m\u001b[43mgroupby\u001b[49m\u001b[43m(\u001b[49m\u001b[43m[\u001b[49m\u001b[38;5;124;43m'\u001b[39;49m\u001b[38;5;124;43myear\u001b[39;49m\u001b[38;5;124;43m'\u001b[39;49m\u001b[43m]\u001b[49m\u001b[43m)\u001b[49m[\u001b[38;5;124m'\u001b[39m\u001b[38;5;124mn_of_cases\u001b[39m\u001b[38;5;124m'\u001b[39m]\u001b[38;5;241m.\u001b[39msum()\u001b[38;5;241m.\u001b[39msort_values(ascending\u001b[38;5;241m=\u001b[39m\u001b[38;5;28;01mFalse\u001b[39;00m)\u001b[38;5;241m.\u001b[39mhead(\u001b[38;5;241m20\u001b[39m)\n\u001b[0;32m      3\u001b[0m \u001b[38;5;66;03m#Visualizing it\u001b[39;00m\n\u001b[0;32m      4\u001b[0m year_max_cases\u001b[38;5;241m.\u001b[39mplot(kind\u001b[38;5;241m=\u001b[39m\u001b[38;5;124m'\u001b[39m\u001b[38;5;124mbar\u001b[39m\u001b[38;5;124m'\u001b[39m)\n",
      "File \u001b[1;32m~\\anaconda3\\lib\\site-packages\\pandas\\core\\frame.py:7712\u001b[0m, in \u001b[0;36mDataFrame.groupby\u001b[1;34m(self, by, axis, level, as_index, sort, group_keys, squeeze, observed, dropna)\u001b[0m\n\u001b[0;32m   7707\u001b[0m axis \u001b[38;5;241m=\u001b[39m \u001b[38;5;28mself\u001b[39m\u001b[38;5;241m.\u001b[39m_get_axis_number(axis)\n\u001b[0;32m   7709\u001b[0m \u001b[38;5;66;03m# https://github.com/python/mypy/issues/7642\u001b[39;00m\n\u001b[0;32m   7710\u001b[0m \u001b[38;5;66;03m# error: Argument \"squeeze\" to \"DataFrameGroupBy\" has incompatible type\u001b[39;00m\n\u001b[0;32m   7711\u001b[0m \u001b[38;5;66;03m# \"Union[bool, NoDefault]\"; expected \"bool\"\u001b[39;00m\n\u001b[1;32m-> 7712\u001b[0m \u001b[38;5;28;01mreturn\u001b[39;00m \u001b[43mDataFrameGroupBy\u001b[49m\u001b[43m(\u001b[49m\n\u001b[0;32m   7713\u001b[0m \u001b[43m    \u001b[49m\u001b[43mobj\u001b[49m\u001b[38;5;241;43m=\u001b[39;49m\u001b[38;5;28;43mself\u001b[39;49m\u001b[43m,\u001b[49m\n\u001b[0;32m   7714\u001b[0m \u001b[43m    \u001b[49m\u001b[43mkeys\u001b[49m\u001b[38;5;241;43m=\u001b[39;49m\u001b[43mby\u001b[49m\u001b[43m,\u001b[49m\n\u001b[0;32m   7715\u001b[0m \u001b[43m    \u001b[49m\u001b[43maxis\u001b[49m\u001b[38;5;241;43m=\u001b[39;49m\u001b[43maxis\u001b[49m\u001b[43m,\u001b[49m\n\u001b[0;32m   7716\u001b[0m \u001b[43m    \u001b[49m\u001b[43mlevel\u001b[49m\u001b[38;5;241;43m=\u001b[39;49m\u001b[43mlevel\u001b[49m\u001b[43m,\u001b[49m\n\u001b[0;32m   7717\u001b[0m \u001b[43m    \u001b[49m\u001b[43mas_index\u001b[49m\u001b[38;5;241;43m=\u001b[39;49m\u001b[43mas_index\u001b[49m\u001b[43m,\u001b[49m\n\u001b[0;32m   7718\u001b[0m \u001b[43m    \u001b[49m\u001b[43msort\u001b[49m\u001b[38;5;241;43m=\u001b[39;49m\u001b[43msort\u001b[49m\u001b[43m,\u001b[49m\n\u001b[0;32m   7719\u001b[0m \u001b[43m    \u001b[49m\u001b[43mgroup_keys\u001b[49m\u001b[38;5;241;43m=\u001b[39;49m\u001b[43mgroup_keys\u001b[49m\u001b[43m,\u001b[49m\n\u001b[0;32m   7720\u001b[0m \u001b[43m    \u001b[49m\u001b[43msqueeze\u001b[49m\u001b[38;5;241;43m=\u001b[39;49m\u001b[43msqueeze\u001b[49m\u001b[43m,\u001b[49m\u001b[43m  \u001b[49m\u001b[38;5;66;43;03m# type: ignore[arg-type]\u001b[39;49;00m\n\u001b[0;32m   7721\u001b[0m \u001b[43m    \u001b[49m\u001b[43mobserved\u001b[49m\u001b[38;5;241;43m=\u001b[39;49m\u001b[43mobserved\u001b[49m\u001b[43m,\u001b[49m\n\u001b[0;32m   7722\u001b[0m \u001b[43m    \u001b[49m\u001b[43mdropna\u001b[49m\u001b[38;5;241;43m=\u001b[39;49m\u001b[43mdropna\u001b[49m\u001b[43m,\u001b[49m\n\u001b[0;32m   7723\u001b[0m \u001b[43m\u001b[49m\u001b[43m)\u001b[49m\n",
      "File \u001b[1;32m~\\anaconda3\\lib\\site-packages\\pandas\\core\\groupby\\groupby.py:882\u001b[0m, in \u001b[0;36mGroupBy.__init__\u001b[1;34m(self, obj, keys, axis, level, grouper, exclusions, selection, as_index, sort, group_keys, squeeze, observed, mutated, dropna)\u001b[0m\n\u001b[0;32m    879\u001b[0m \u001b[38;5;28;01mif\u001b[39;00m grouper \u001b[38;5;129;01mis\u001b[39;00m \u001b[38;5;28;01mNone\u001b[39;00m:\n\u001b[0;32m    880\u001b[0m     \u001b[38;5;28;01mfrom\u001b[39;00m \u001b[38;5;21;01mpandas\u001b[39;00m\u001b[38;5;21;01m.\u001b[39;00m\u001b[38;5;21;01mcore\u001b[39;00m\u001b[38;5;21;01m.\u001b[39;00m\u001b[38;5;21;01mgroupby\u001b[39;00m\u001b[38;5;21;01m.\u001b[39;00m\u001b[38;5;21;01mgrouper\u001b[39;00m \u001b[38;5;28;01mimport\u001b[39;00m get_grouper\n\u001b[1;32m--> 882\u001b[0m     grouper, exclusions, obj \u001b[38;5;241m=\u001b[39m \u001b[43mget_grouper\u001b[49m\u001b[43m(\u001b[49m\n\u001b[0;32m    883\u001b[0m \u001b[43m        \u001b[49m\u001b[43mobj\u001b[49m\u001b[43m,\u001b[49m\n\u001b[0;32m    884\u001b[0m \u001b[43m        \u001b[49m\u001b[43mkeys\u001b[49m\u001b[43m,\u001b[49m\n\u001b[0;32m    885\u001b[0m \u001b[43m        \u001b[49m\u001b[43maxis\u001b[49m\u001b[38;5;241;43m=\u001b[39;49m\u001b[43maxis\u001b[49m\u001b[43m,\u001b[49m\n\u001b[0;32m    886\u001b[0m \u001b[43m        \u001b[49m\u001b[43mlevel\u001b[49m\u001b[38;5;241;43m=\u001b[39;49m\u001b[43mlevel\u001b[49m\u001b[43m,\u001b[49m\n\u001b[0;32m    887\u001b[0m \u001b[43m        \u001b[49m\u001b[43msort\u001b[49m\u001b[38;5;241;43m=\u001b[39;49m\u001b[43msort\u001b[49m\u001b[43m,\u001b[49m\n\u001b[0;32m    888\u001b[0m \u001b[43m        \u001b[49m\u001b[43mobserved\u001b[49m\u001b[38;5;241;43m=\u001b[39;49m\u001b[43mobserved\u001b[49m\u001b[43m,\u001b[49m\n\u001b[0;32m    889\u001b[0m \u001b[43m        \u001b[49m\u001b[43mmutated\u001b[49m\u001b[38;5;241;43m=\u001b[39;49m\u001b[38;5;28;43mself\u001b[39;49m\u001b[38;5;241;43m.\u001b[39;49m\u001b[43mmutated\u001b[49m\u001b[43m,\u001b[49m\n\u001b[0;32m    890\u001b[0m \u001b[43m        \u001b[49m\u001b[43mdropna\u001b[49m\u001b[38;5;241;43m=\u001b[39;49m\u001b[38;5;28;43mself\u001b[39;49m\u001b[38;5;241;43m.\u001b[39;49m\u001b[43mdropna\u001b[49m\u001b[43m,\u001b[49m\n\u001b[0;32m    891\u001b[0m \u001b[43m    \u001b[49m\u001b[43m)\u001b[49m\n\u001b[0;32m    893\u001b[0m \u001b[38;5;28mself\u001b[39m\u001b[38;5;241m.\u001b[39mobj \u001b[38;5;241m=\u001b[39m obj\n\u001b[0;32m    894\u001b[0m \u001b[38;5;28mself\u001b[39m\u001b[38;5;241m.\u001b[39maxis \u001b[38;5;241m=\u001b[39m obj\u001b[38;5;241m.\u001b[39m_get_axis_number(axis)\n",
      "File \u001b[1;32m~\\anaconda3\\lib\\site-packages\\pandas\\core\\groupby\\grouper.py:882\u001b[0m, in \u001b[0;36mget_grouper\u001b[1;34m(obj, key, axis, level, sort, observed, mutated, validate, dropna)\u001b[0m\n\u001b[0;32m    880\u001b[0m         in_axis, level, gpr \u001b[38;5;241m=\u001b[39m \u001b[38;5;28;01mFalse\u001b[39;00m, gpr, \u001b[38;5;28;01mNone\u001b[39;00m\n\u001b[0;32m    881\u001b[0m     \u001b[38;5;28;01melse\u001b[39;00m:\n\u001b[1;32m--> 882\u001b[0m         \u001b[38;5;28;01mraise\u001b[39;00m \u001b[38;5;167;01mKeyError\u001b[39;00m(gpr)\n\u001b[0;32m    883\u001b[0m \u001b[38;5;28;01melif\u001b[39;00m \u001b[38;5;28misinstance\u001b[39m(gpr, Grouper) \u001b[38;5;129;01mand\u001b[39;00m gpr\u001b[38;5;241m.\u001b[39mkey \u001b[38;5;129;01mis\u001b[39;00m \u001b[38;5;129;01mnot\u001b[39;00m \u001b[38;5;28;01mNone\u001b[39;00m:\n\u001b[0;32m    884\u001b[0m     \u001b[38;5;66;03m# Add key to exclusions\u001b[39;00m\n\u001b[0;32m    885\u001b[0m     exclusions\u001b[38;5;241m.\u001b[39madd(gpr\u001b[38;5;241m.\u001b[39mkey)\n",
      "\u001b[1;31mKeyError\u001b[0m: 'year'"
     ]
    }
   ],
   "source": [
    "year_max_cases = df.groupby(['year'])['n_of_cases'].sum().sort_values(ascending=False).head(20)\n",
    "\n",
    "#Visualizing it\n",
    "year_max_cases.plot(kind='bar')\n",
    "plt.xlabel('year')\n",
    "plt.ylabel('Total Cases of Dengue')\n",
    "plt.show()"
   ]
  },
  {
   "cell_type": "code",
   "execution_count": null,
   "id": "d550d992",
   "metadata": {},
   "outputs": [],
   "source": [
    "# Most num of total_cases from combined years\n",
    "\n",
    "year_max_cases = df.groupby(['location'])['n_of_cases'].sum().sort_values(ascending=False).head(20)\n",
    "\n",
    "#Visualizing it\n",
    "year_max_cases.plot(kind='bar')\n",
    "plt.xlabel('location')\n",
    "plt.ylabel('Total Cases of Dengue')\n",
    "plt.show()"
   ]
  },
  {
   "cell_type": "code",
   "execution_count": null,
   "id": "6e2a77dc",
   "metadata": {},
   "outputs": [],
   "source": [
    "# Most num of total_cases by date\n",
    "\n",
    "date_max_cases = df.groupby(['date'])['n_of_cases'].sum().sort_values(ascending=False).head(20)\n",
    "\n",
    "#Visualizing it\n",
    "date_max_cases.plot(kind='bar')\n",
    "plt.xlabel('date')\n",
    "plt.ylabel('Total Cases of Dengue')\n",
    "plt.show()"
   ]
  },
  {
   "cell_type": "code",
   "execution_count": null,
   "id": "f1958fa8",
   "metadata": {},
   "outputs": [],
   "source": [
    "# lease num of total_cases\n",
    "\n",
    "year_min_cases = df.groupby(['location'])['n_of_cases'].sum().sort_values(ascending=True).head(10)\n",
    "\n",
    "#Visualizing it\n",
    "year_min_cases.plot(kind='bar')\n",
    "plt.xlabel('location')\n",
    "plt.ylabel('Total Cases of Dengue')\n",
    "plt.show()"
   ]
  },
  {
   "cell_type": "code",
   "execution_count": null,
   "id": "becabc02",
   "metadata": {},
   "outputs": [],
   "source": [
    "df_2020 = df.loc[df['year'] == 2020]"
   ]
  },
  {
   "cell_type": "code",
   "execution_count": null,
   "id": "88c46746",
   "metadata": {},
   "outputs": [],
   "source": [
    "df_2019 = df.loc[df['year'] == 2019]"
   ]
  },
  {
   "cell_type": "code",
   "execution_count": null,
   "id": "2ca08e7d",
   "metadata": {
    "scrolled": false
   },
   "outputs": [],
   "source": [
    "# highest cases in which month 2020\n",
    "\n",
    "month_in_2020 = df_2020.groupby(['month_num'])['n_of_cases'].sum().sort_values(ascending=False)\n",
    "\n",
    "#Visualizing it\n",
    "month_in_2020.plot(kind='bar')\n",
    "plt.xlabel('month')\n",
    "plt.ylabel('Total Cases of Dengue')\n",
    "plt.show()"
   ]
  },
  {
   "cell_type": "code",
   "execution_count": null,
   "id": "42ae394d",
   "metadata": {},
   "outputs": [],
   "source": [
    "# Most num of total_cases 2020\n",
    "\n",
    "year_max_cases_2020 = df_2020.groupby(['location'])['n_of_cases'].sum().sort_values(ascending=False).head(20)\n",
    "\n",
    "#Visualizing it\n",
    "year_max_cases_2020.plot(kind='bar')\n",
    "plt.xlabel('location')\n",
    "plt.ylabel('Total Cases of Dengue')\n",
    "plt.show()"
   ]
  },
  {
   "cell_type": "code",
   "execution_count": null,
   "id": "f8a72415",
   "metadata": {},
   "outputs": [],
   "source": [
    "# Most num of total_cases 2019\n",
    "\n",
    "year_max_cases_2019 = df_2019.groupby(['location'])['n_of_cases'].sum().sort_values(ascending=False).head(20)\n",
    "\n",
    "#Visualizing it\n",
    "year_max_cases_2019.plot(kind='bar')\n",
    "plt.xlabel('location')\n",
    "plt.ylabel('Total Cases of Dengue')\n",
    "plt.show()"
   ]
  },
  {
   "cell_type": "code",
   "execution_count": null,
   "id": "db0dcfb1",
   "metadata": {},
   "outputs": [],
   "source": [
    "# highest cases in which month 2019\n",
    "\n",
    "month_in_2019 = df_2019.groupby(['month_num'])['n_of_cases'].sum().sort_values(ascending=False)\n",
    "\n",
    "#Visualizing it\n",
    "month_in_2019.plot(kind='bar')\n",
    "plt.xlabel('month')\n",
    "plt.ylabel('Total Cases of Dengue')\n",
    "plt.show()"
   ]
  },
  {
   "cell_type": "code",
   "execution_count": null,
   "id": "f8c0a82d",
   "metadata": {},
   "outputs": [],
   "source": []
  }
 ],
 "metadata": {
  "kernelspec": {
   "display_name": "Python 3 (ipykernel)",
   "language": "python",
   "name": "python3"
  },
  "language_info": {
   "codemirror_mode": {
    "name": "ipython",
    "version": 3
   },
   "file_extension": ".py",
   "mimetype": "text/x-python",
   "name": "python",
   "nbconvert_exporter": "python",
   "pygments_lexer": "ipython3",
   "version": "3.9.12"
  }
 },
 "nbformat": 4,
 "nbformat_minor": 5
}
