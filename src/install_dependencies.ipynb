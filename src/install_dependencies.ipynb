{
 "cells": [
  {
   "cell_type": "code",
   "execution_count": 1,
   "id": "a335c46b",
   "metadata": {},
   "outputs": [
    {
     "name": "stdout",
     "output_type": "stream",
     "text": [
      "Requirement already satisfied: json5 in c:\\users\\gary\\anaconda3\\lib\\site-packages (0.9.6)\n",
      "Requirement already satisfied: tqdm in c:\\users\\gary\\anaconda3\\lib\\site-packages (4.64.0)\n",
      "Requirement already satisfied: pytrends in c:\\users\\gary\\anaconda3\\lib\\site-packages (4.8.0)\n",
      "Collecting area\n",
      "  Downloading area-1.1.1.tar.gz (4.1 kB)\n",
      "Requirement already satisfied: colorama in c:\\users\\gary\\anaconda3\\lib\\site-packages (from tqdm) (0.4.4)\n",
      "Requirement already satisfied: requests>=2.0 in c:\\users\\gary\\anaconda3\\lib\\site-packages (from pytrends) (2.27.1)\n",
      "Requirement already satisfied: pandas>=0.25 in c:\\users\\gary\\anaconda3\\lib\\site-packages (from pytrends) (1.4.2)\n",
      "Requirement already satisfied: lxml in c:\\users\\gary\\anaconda3\\lib\\site-packages (from pytrends) (4.8.0)\n",
      "Requirement already satisfied: python-dateutil>=2.8.1 in c:\\users\\gary\\anaconda3\\lib\\site-packages (from pandas>=0.25->pytrends) (2.8.2)\n",
      "Requirement already satisfied: numpy>=1.18.5 in c:\\users\\gary\\anaconda3\\lib\\site-packages (from pandas>=0.25->pytrends) (1.21.5)\n",
      "Requirement already satisfied: pytz>=2020.1 in c:\\users\\gary\\anaconda3\\lib\\site-packages (from pandas>=0.25->pytrends) (2021.3)\n",
      "Requirement already satisfied: six>=1.5 in c:\\users\\gary\\anaconda3\\lib\\site-packages (from python-dateutil>=2.8.1->pandas>=0.25->pytrends) (1.16.0)\n",
      "Requirement already satisfied: certifi>=2017.4.17 in c:\\users\\gary\\anaconda3\\lib\\site-packages (from requests>=2.0->pytrends) (2021.10.8)\n",
      "Requirement already satisfied: urllib3<1.27,>=1.21.1 in c:\\users\\gary\\anaconda3\\lib\\site-packages (from requests>=2.0->pytrends) (1.26.9)\n",
      "Requirement already satisfied: charset-normalizer~=2.0.0 in c:\\users\\gary\\anaconda3\\lib\\site-packages (from requests>=2.0->pytrends) (2.0.4)\n",
      "Requirement already satisfied: idna<4,>=2.5 in c:\\users\\gary\\anaconda3\\lib\\site-packages (from requests>=2.0->pytrends) (3.3)\n",
      "Building wheels for collected packages: area\n",
      "  Building wheel for area (setup.py): started\n",
      "  Building wheel for area (setup.py): finished with status 'done'\n",
      "  Created wheel for area: filename=area-1.1.1-py3-none-any.whl size=3626 sha256=0ad36d882314b8f694dc619f4e8415ad32c63e4d839ce8a536e3f62564c1613d\n",
      "  Stored in directory: c:\\users\\gary\\appdata\\local\\pip\\cache\\wheels\\4f\\99\\e9\\0a659ec7bb7f9b457c6a1cf77cff5b34de511e1f5d2236fbab\n",
      "Successfully built area\n",
      "Installing collected packages: area\n",
      "Successfully installed area-1.1.1\n"
     ]
    }
   ],
   "source": [
    "!pip install json5 tqdm pytrends area"
   ]
  },
  {
   "cell_type": "code",
   "execution_count": null,
   "id": "f7bee19a",
   "metadata": {},
   "outputs": [],
   "source": []
  }
 ],
 "metadata": {
  "kernelspec": {
   "display_name": "Python 3 (ipykernel)",
   "language": "python",
   "name": "python3"
  },
  "language_info": {
   "codemirror_mode": {
    "name": "ipython",
    "version": 3
   },
   "file_extension": ".py",
   "mimetype": "text/x-python",
   "name": "python",
   "nbconvert_exporter": "python",
   "pygments_lexer": "ipython3",
   "version": "3.9.12"
  }
 },
 "nbformat": 4,
 "nbformat_minor": 5
}
